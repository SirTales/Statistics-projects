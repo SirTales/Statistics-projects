{
 "cells": [
  {
   "cell_type": "markdown",
   "id": "07bfc304",
   "metadata": {},
   "source": [
    "## Box plot on Iris data set\n",
    "\n",
    "In this notebook, I perform a box plot on the Iris data set.\n",
    "\n",
    "First, lets talk about some basic statistics.\n",
    "\n",
    "A box plot is useful for comparisons between multiple group data. It is great for providing information at glance!\n",
    "\n",
    "### Box Plot\n",
    "Has 5 points: lower limit, first quantil (1/4), median (1/2), third quantil (3/4) and upper limit.\n",
    "\n",
    "- **Lower limit** presents the smallest values from our data.\n",
    "\n",
    "- **first quantil** presents the value where below it we have 25% of our data (1/4), and above it, 75%, or, for Cumulative Distribution Function (**CDF**), presents the sum of $f$ of 25% probability.\n",
    "\n",
    "- **Median** presents the half point, where above it is located 50% of the data, and below it, the other half.\n",
    "\n",
    "- **Third quantil** presents the value where below it we have 75% of our data (3/4), and above it, 25%, or, for **CDF**, presents the sum of $f$ of 75% probability.\n",
    "\n",
    "- **Upper limit** presents the highest value from our data.\n",
    "\n",
    "The **Cumulative Distribution Function** gives the probability of a function to assume a value that is less or equal of the given value.\n",
    "\n",
    "**Cumulative Distribution Function** is a *function* $F_X : \\mathbb{R} \\rightarrow [0,1]$ defined by\n",
    "\n",
    "$$\n",
    "F_X(x)=\\mathbb{P}(X\\leq x)\n",
    "$$\n",
    "It is right-continuous, non-decresing and defined fo all $x$ such that\n",
    "$$\n",
    "\\lim\\limits_{x\\to +\\infty} F(x)=1 \\\\\n",
    "\\lim\\limits_{x\\to -\\infty} F(x)=0\n",
    "$$\n",
    "\n",
    "If $X$ is **discrete**, we define the **probability function** $f$ for $X$ by $f_X(x) = \\mathbb{P}(X=x)$. Its our good old $f$.\n",
    "\n",
    "If $X$ is **continuous**, then the **probability density function (PDF)** is defined $\\int^{\\infty}_{-\\infty} f_X(x) \\,dx = 1$ and for every $a \\leq b$,\n",
    "$$\n",
    "\\mathbb{P}(a<X<b) = \\int^{b}_{a} f_X(x) \\, dx\n",
    "$$"
   ]
  },
  {
   "cell_type": "markdown",
   "id": "22e1bd6a",
   "metadata": {},
   "source": [
    "***E.g.* Iris data set with CDF**"
   ]
  },
  {
   "cell_type": "markdown",
   "id": "f2297880",
   "metadata": {},
   "source": [
    "First, lets start by importing our necessary libraries:"
   ]
  },
  {
   "cell_type": "code",
   "execution_count": 1,
   "id": "7d56b482",
   "metadata": {},
   "outputs": [],
   "source": [
    "import matplotlib.pyplot as plt        # to plot figures\n",
    "import numpy as np                     # to work with specific functions, like 'unique'\n",
    "from sklearn.datasets import load_iris #import the Iris data set"
   ]
  },
  {
   "cell_type": "code",
   "execution_count": 2,
   "id": "1463c0f9",
   "metadata": {},
   "outputs": [],
   "source": [
    "iris = load_iris() # loads the dataset"
   ]
  },
  {
   "cell_type": "code",
   "execution_count": 3,
   "id": "dcb6bdde",
   "metadata": {},
   "outputs": [
    {
     "data": {
      "image/png": "[encoded data removed]",
      "text/plain": [
       "<Figure size 432x288 with 1 Axes>"
      ]
     },
     "metadata": {
      "needs_background": "light"
     },
     "output_type": "display_data"
    }
   ],
   "source": [
    "sl   = iris.data[:,0] # selecting the sepal lenght (cm) column\n",
    "sw   = iris.data[:,1] # sepal width (cm)\n",
    "pl   = iris.data[:,2] # petal width (cm)\n",
    "pw   = iris.data[:,3] # petal width (cm)\n",
    "\n",
    "s_l  = \"Sepal lenght\" # axis titles\n",
    "s_w  = \"Sepal width\"\n",
    "p_l  = \"Petal lenght\"\n",
    "p_w  = \"Petal width\"\n",
    "\n",
    "data = [sl, sw, pl, pw] # data in array for boxplot\n",
    "plt.boxplot(data, labels = [s_l, s_w, p_l, p_w]) # boxplot\n",
    "\n",
    "plt.ylabel('Values (cm)')\n",
    "plt.grid()"
   ]
  },
  {
   "cell_type": "markdown",
   "id": "d2959582",
   "metadata": {},
   "source": [
    "Attribute  with less variations: Sepal width\n",
    "\n",
    "Attribute  with most variations: Petal lenght"
   ]
  },
  {
   "cell_type": "code",
   "execution_count": 4,
   "id": "c14f4aca",
   "metadata": {},
   "outputs": [],
   "source": [
    "def CDF(data):\n",
    "    uniquevalues, count = np.unique(data, return_counts = True) #returns the sorted unique elements of an array, \n",
    "                                                                #and the number of times each unique item appears\n",
    "                                                                #in the array. \n",
    "    \n",
    "    cs                  = np.cumsum(count) #cumulative sum\n",
    "    \n",
    "    return uniquevalues, cs/cs[-1] #returns the unique values and the CDF, by dividing cs by the total sum \n",
    "                                   #(last term of cs = cs[-1])"
   ]
  },
  {
   "cell_type": "code",
   "execution_count": 5,
   "id": "af3e50bf",
   "metadata": {},
   "outputs": [],
   "source": [
    "def plot_CDF(data, x_axis_label): # defining our function, because we will repeat this process\n",
    "    \n",
    "    x, y = CDF(data)\n",
    "    \n",
    "    x    = np.insert(x, 0, x[0]) #to start from 0 in the y-axis, we double the first value of x, for one of it \n",
    "                                 #start with 0 in the y-axis\n",
    "      \n",
    "    y    = np.insert(y, 0, 0) #and we also need to add a 0 value for the y data, to have the same lenght\n",
    "    \n",
    "    plt.plot(x, y, drawstyle = 'steps-post', color= 'r')\n",
    "    plt.xlabel(x_axis_label)\n",
    "    plt.ylabel('F(x)')\n",
    "    plt.grid()"
   ]
  },
  {
   "cell_type": "code",
   "execution_count": 6,
   "id": "0202d2e1",
   "metadata": {},
   "outputs": [
    {
     "data": {
      "image/png": "[encoded data removed]",
      "text/plain": [
       "<Figure size 432x288 with 1 Axes>"
      ]
     },
     "metadata": {
      "needs_background": "light"
     },
     "output_type": "display_data"
    }
   ],
   "source": [
    "plot_CDF(sl, s_l)"
   ]
  },
  {
   "cell_type": "code",
   "execution_count": 7,
   "id": "f116f090",
   "metadata": {},
   "outputs": [
    {
     "data": {
      "image/png": "[encoded data removed]",
      "text/plain": [
       "<Figure size 432x288 with 1 Axes>"
      ]
     },
     "metadata": {
      "needs_background": "light"
     },
     "output_type": "display_data"
    }
   ],
   "source": [
    "plot_CDF(sw, s_w)"
   ]
  },
  {
   "cell_type": "code",
   "execution_count": 8,
   "id": "00c7496d",
   "metadata": {},
   "outputs": [
    {
     "data": {
      "image/png": "[encoded data removed]",
      "text/plain": [
       "<Figure size 432x288 with 1 Axes>"
      ]
     },
     "metadata": {
      "needs_background": "light"
     },
     "output_type": "display_data"
    }
   ],
   "source": [
    "plot_CDF(pl, p_l)"
   ]
  },
  {
   "cell_type": "code",
   "execution_count": 9,
   "id": "daa57500",
   "metadata": {},
   "outputs": [
    {
     "data": {
      "image/png": "[encoded data removed]",
      "text/plain": [
       "<Figure size 432x288 with 1 Axes>"
      ]
     },
     "metadata": {
      "needs_background": "light"
     },
     "output_type": "display_data"
    }
   ],
   "source": [
    "plot_CDF(pw, p_w)"
   ]
  },
  {
   "cell_type": "markdown",
   "id": "9a736514",
   "metadata": {},
   "source": [
    "And with that, we have our box plot of Iris dataset and the four cumulative distributions for each attribute"
   ]
  }
 ],
 "metadata": {
  "kernelspec": {
   "display_name": "Python 3 (ipykernel)",
   "language": "python",
   "name": "python3"
  },
  "language_info": {
   "codemirror_mode": {
    "name": "ipython",
    "version": 3
   },
   "file_extension": ".py",
   "mimetype": "text/x-python",
   "name": "python",
   "nbconvert_exporter": "python",
   "pygments_lexer": "ipython3",
   "version": "3.9.7"
  }
 },
 "nbformat": 4,
 "nbformat_minor": 5
}
