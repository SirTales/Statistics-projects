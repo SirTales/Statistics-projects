{
 "cells": [
  {
   "cell_type": "markdown",
   "id": "2e83e164",
   "metadata": {},
   "source": [
    "## Student's T-test on 60's US crime rate."
   ]
  },
  {
   "cell_type": "markdown",
   "id": "f1d83465",
   "metadata": {},
   "source": [
    "In this notebook, we will perform the Student's T-test on 60's US crime rate.\n",
    "\n",
    "The idea behing the test is to check what variable has influence on the dataset. Basically, we will assume a *null hypothesis* that says that the attributes don't influence and check for the p-value. If the *p-value* < $5 \\%$, we can reject the *null hypothesis* that is, the attribute influence in the dataset."
   ]
  },
  {
   "cell_type": "markdown",
   "id": "93fed2a6",
   "metadata": {},
   "source": [
    "First things first, lets load our libraries and our data set."
   ]
  },
  {
   "cell_type": "code",
   "execution_count": 1,
   "id": "2d316a59",
   "metadata": {},
   "outputs": [],
   "source": [
    "import numpy as np           # great for general work, such as arrays \n",
    "import statsmodels.api as sm # will perform our test\n",
    "import pandas as pd          # great for working with datasets\n",
    "\n",
    "data = 'https://stats.idre.ucla.edu/wp-content/uploads/2016/02/crime.txt' # link for our dataset\n",
    "df = pd.read_csv(data, delimiter= '\\s+', header = None) # reads the .csv link, specifing its delimiter and no header\n",
    "\n",
    "# CrimeRat: Crime rate: # of offenses reported to police per million population\n",
    "# MaleTeen: The number of males of age 14-24 per 1000 population\n",
    "# South : Indicator variable for Southern states (0 = No, 1 = Yes)\n",
    "# Educ : Mean # of years of schooling for persons of age 25 or older\n",
    "# Police60: 1960 per capita expenditure on police by state and local government\n",
    "# Police59: 1959 per capita expenditure on police by state and local government\n",
    "# Labor : Labor force participation rate per 1000 civilian urban males age 14-24\n",
    "# Males : The number of males per 1000 females\n",
    "# Pop : State population size in hundred thousands\n",
    "# NonWhite: The number of non-whites per 1000 population\n",
    "# Unemp1 : Unemployment rate of urban males per 1000 of age 14-24\n",
    "# Unemp2 : Unemployment rate of urban males per 1000 of age 35-39\n",
    "# Median : Median value of transferable goods and assets or family income in tens of $\n",
    "# BelowMed: The number of families per 1000 earning below 1/2 the median income\n",
    "\n",
    "df.columns = ['CrimeRat', 'MaleTeen', 'South', 'Educ', 'Police60', 'Police59', 'Labor', 'Males', 'Pop', 'NonWhite',\n",
    "              'Unemp1', 'Unemp2', 'Median', 'BelowMed'] # here we set the header for each column"
   ]
  },
  {
   "cell_type": "code",
   "execution_count": 2,
   "id": "d68f1026",
   "metadata": {},
   "outputs": [],
   "source": [
    "x = df.iloc[:, 1:14] # iloc selects data in the dataset by integer number of lines, arrays or slice\n",
    "                     # In this case we want all columns from 1 to 14.\n",
    "y = df.iloc[:, 0]    # for y, we want only the first column"
   ]
  },
  {
   "cell_type": "code",
   "execution_count": 3,
   "id": "ecbf6491",
   "metadata": {},
   "outputs": [],
   "source": [
    "x = sm.add_constant(x) # adds a column of 1s to the dataset, needed by the model"
   ]
  },
  {
   "cell_type": "code",
   "execution_count": 4,
   "id": "32c08e4f",
   "metadata": {},
   "outputs": [],
   "source": [
    "result = sm.OLS(y, x).fit() #Ordinary Least Squares fit"
   ]
  },
  {
   "cell_type": "code",
   "execution_count": 5,
   "id": "06adb481",
   "metadata": {},
   "outputs": [
    {
     "name": "stdout",
     "output_type": "stream",
     "text": [
      "                            OLS Regression Results                            \n",
      "==============================================================================\n",
      "Dep. Variable:               CrimeRat   R-squared:                       0.769\n",
      "Model:                            OLS   Adj. R-squared:                  0.678\n",
      "Method:                 Least Squares   F-statistic:                     8.462\n",
      "Date:                Thu, 22 Sep 2022   Prob (F-statistic):           3.69e-07\n",
      "Time:                        16:09:24   Log-Likelihood:                -203.52\n",
      "No. Observations:                  47   AIC:                             435.0\n",
      "Df Residuals:                      33   BIC:                             460.9\n",
      "Df Model:                          13                                         \n",
      "Covariance Type:            nonrobust                                         \n",
      "==============================================================================\n",
      "                 coef    std err          t      P>|t|      [0.025      0.975]\n",
      "------------------------------------------------------------------------------\n",
      "const       -691.8376    155.888     -4.438      0.000   -1008.994    -374.681\n",
      "MaleTeen       1.0398      0.423      2.460      0.019       0.180       1.900\n",
      "South         -8.3083     14.912     -0.557      0.581     -38.646      22.030\n",
      "Educ          18.0160      6.497      2.773      0.009       4.799      31.233\n",
      "Police60       1.6078      1.059      1.519      0.138      -0.546       3.762\n",
      "Police59      -0.6673      1.149     -0.581      0.565      -3.004       1.670\n",
      "Labor         -0.0410      0.153     -0.267      0.791      -0.353       0.271\n",
      "Males          0.1648      0.210      0.785      0.438      -0.262       0.592\n",
      "Pop           -0.0413      0.130     -0.319      0.752      -0.305       0.222\n",
      "NonWhite       0.0072      0.064      0.112      0.911      -0.123       0.137\n",
      "Unemp1        -0.6017      0.437     -1.376      0.178      -1.491       0.288\n",
      "Unemp2         1.7923      0.856      2.093      0.044       0.050       3.534\n",
      "Median         0.1374      0.106      1.298      0.203      -0.078       0.353\n",
      "BelowMed       0.7929      0.235      3.373      0.002       0.315       1.271\n",
      "==============================================================================\n",
      "Omnibus:                        0.343   Durbin-Watson:                   1.482\n",
      "Prob(Omnibus):                  0.842   Jarque-Bera (JB):                0.260\n",
      "Skew:                           0.172   Prob(JB):                        0.878\n",
      "Kurtosis:                       2.882   Cond. No.                     6.26e+04\n",
      "==============================================================================\n",
      "\n",
      "Notes:\n",
      "[1] Standard Errors assume that the covariance matrix of the errors is correctly specified.\n",
      "[2] The condition number is large, 6.26e+04. This might indicate that there are\n",
      "strong multicollinearity or other numerical problems.\n"
     ]
    }
   ],
   "source": [
    "print(result.summary())"
   ]
  },
  {
   "cell_type": "markdown",
   "id": "f568c161",
   "metadata": {},
   "source": [
    "However, the *p-value* displayed is a double-tailed *p-value*, and so, we need to divide by two to get the one-tailed *p-value*: "
   ]
  },
  {
   "cell_type": "code",
   "execution_count": 6,
   "id": "b0919a7b",
   "metadata": {},
   "outputs": [
    {
     "data": {
      "text/plain": [
       "const       0.000048\n",
       "MaleTeen    0.009653\n",
       "South       0.290585\n",
       "Educ        0.004530\n",
       "Police60    0.069178\n",
       "Police59    0.282646\n",
       "Labor       0.395434\n",
       "Males       0.219029\n",
       "Pop         0.375981\n",
       "NonWhite    0.455618\n",
       "Unemp1      0.088992\n",
       "Unemp2      0.022035\n",
       "Median      0.101658\n",
       "BelowMed    0.000956\n",
       "dtype: float64"
      ]
     },
     "execution_count": 6,
     "metadata": {},
     "output_type": "execute_result"
    }
   ],
   "source": [
    "result.pvalues/2"
   ]
  },
  {
   "cell_type": "markdown",
   "id": "baf9e3b5",
   "metadata": {},
   "source": [
    "With that, we can reject the *null hypothesis* for MaleTeen, Educ, Unemp2 and BelowMed that is, the **number of males of age 14-24, schooling, number of unemployed males of age 35-39 and family income influence in crime rate** in the US, 1960. \n",
    "\n",
    "That is to say, if we would build a model for crime rate - say, a multiple linear regression model -, these would be the independent variables for the predictor."
   ]
  }
 ],
 "metadata": {
  "kernelspec": {
   "display_name": "Python 3.9.7 ('jupyter-pyroot')",
   "language": "python",
   "name": "python3"
  },
  "language_info": {
   "codemirror_mode": {
    "name": "ipython",
    "version": 3
   },
   "file_extension": ".py",
   "mimetype": "text/x-python",
   "name": "python",
   "nbconvert_exporter": "python",
   "pygments_lexer": "ipython3",
   "version": "3.9.7"
  },
  "vscode": {
   "interpreter": {
    "hash": "6ba031d096edee3396909c9ef5a20041743fbc3716776c13d127be5c1a4d0eea"
   }
  }
 },
 "nbformat": 4,
 "nbformat_minor": 5
}
